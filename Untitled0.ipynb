{
  "nbformat": 4,
  "nbformat_minor": 0,
  "metadata": {
    "colab": {
      "name": "Untitled0.ipynb",
      "version": "0.3.2",
      "provenance": [],
      "collapsed_sections": [],
      "include_colab_link": true
    },
    "kernelspec": {
      "name": "python3",
      "display_name": "Python 3"
    }
  },
  "cells": [
    {
      "cell_type": "markdown",
      "metadata": {
        "id": "view-in-github",
        "colab_type": "text"
      },
      "source": [
        "<a href=\"https://colab.research.google.com/github/lankevamsikiran/GITTEST1/blob/master/Untitled0.ipynb\" target=\"_parent\"><img src=\"https://colab.research.google.com/assets/colab-badge.svg\" alt=\"Open In Colab\"/></a>"
      ]
    },
    {
      "cell_type": "code",
      "metadata": {
        "id": "XXIO3PVbQFWy",
        "colab_type": "code",
        "outputId": "fa57c6ab-e7a0-4585-dff9-670ab5156271",
        "colab": {
          "base_uri": "https://localhost:8080/",
          "height": 68
        }
      },
      "source": [
        "num1 = input('Enter first number: ')\n",
        "num2 = input('Enter second number: ')\n",
        "# Add two numbers\n",
        "sum = float(num1) + float(num2)\n",
        "# Display the sum\n",
        "print('The sum of {0} and {1} is {2}'.format(num1, num2, sum))"
      ],
      "execution_count": 0,
      "outputs": [
        {
          "output_type": "stream",
          "text": [
            "Enter first number: 10\n",
            "Enter second number: 50\n",
            "The sum of 10 and 50 is 60.0\n"
          ],
          "name": "stdout"
        }
      ]
    },
    {
      "cell_type": "code",
      "metadata": {
        "id": "NcZQOEmgQYvj",
        "colab_type": "code",
        "outputId": "ddc9534c-0c7d-4a84-ec0d-613ad5ca0d5b",
        "colab": {
          "base_uri": "https://localhost:8080/",
          "height": 68
        }
      },
      "source": [
        "num1 = input('Enter first number: ')\n",
        "num2 = input('Enter second number: ')\n",
        "# Add two numbers\n",
        "sum = float(num1) + float(num2)\n",
        "# Display the sum\n",
        "print('The sum of {0} and {1} is {2}'.format(num1, num2, sum))"
      ],
      "execution_count": 0,
      "outputs": [
        {
          "output_type": "stream",
          "text": [
            "Enter first number: 88\n",
            "Enter second number: 33\n",
            "The sum of 88 and 33 is 121.0\n"
          ],
          "name": "stdout"
        }
      ]
    }
  ]
}